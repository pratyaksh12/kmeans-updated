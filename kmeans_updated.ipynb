{
  "nbformat": 4,
  "nbformat_minor": 0,
  "metadata": {
    "colab": {
      "provenance": [],
      "authorship_tag": "ABX9TyNDreZG8EenfPt5W6PXiCmq",
      "include_colab_link": true
    },
    "kernelspec": {
      "name": "python3",
      "display_name": "Python 3"
    },
    "language_info": {
      "name": "python"
    }
  },
  "cells": [
    {
      "cell_type": "markdown",
      "metadata": {
        "id": "view-in-github",
        "colab_type": "text"
      },
      "source": [
        "<a href=\"https://colab.research.google.com/github/pratyaksh12/kmeans-updated/blob/main/kmeans_updated.ipynb\" target=\"_parent\"><img src=\"https://colab.research.google.com/assets/colab-badge.svg\" alt=\"Open In Colab\"/></a>"
      ]
    },
    {
      "cell_type": "code",
      "execution_count": 1,
      "metadata": {
        "colab": {
          "base_uri": "https://localhost:8080/",
          "height": 129
        },
        "id": "xYyO9NnCxrtK",
        "outputId": "9ab5b16a-bc85-4d3a-ffcc-8f2bb2f4e2bf"
      },
      "outputs": [
        {
          "output_type": "display_data",
          "data": {
            "text/plain": [
              "<IPython.core.display.HTML object>"
            ],
            "text/html": [
              "\n",
              "     <input type=\"file\" id=\"files-40553406-32ee-4304-bf79-dc580e259381\" name=\"files[]\" multiple disabled\n",
              "        style=\"border:none\" />\n",
              "     <output id=\"result-40553406-32ee-4304-bf79-dc580e259381\">\n",
              "      Upload widget is only available when the cell has been executed in the\n",
              "      current browser session. Please rerun this cell to enable.\n",
              "      </output>\n",
              "      <script>// Copyright 2017 Google LLC\n",
              "//\n",
              "// Licensed under the Apache License, Version 2.0 (the \"License\");\n",
              "// you may not use this file except in compliance with the License.\n",
              "// You may obtain a copy of the License at\n",
              "//\n",
              "//      http://www.apache.org/licenses/LICENSE-2.0\n",
              "//\n",
              "// Unless required by applicable law or agreed to in writing, software\n",
              "// distributed under the License is distributed on an \"AS IS\" BASIS,\n",
              "// WITHOUT WARRANTIES OR CONDITIONS OF ANY KIND, either express or implied.\n",
              "// See the License for the specific language governing permissions and\n",
              "// limitations under the License.\n",
              "\n",
              "/**\n",
              " * @fileoverview Helpers for google.colab Python module.\n",
              " */\n",
              "(function(scope) {\n",
              "function span(text, styleAttributes = {}) {\n",
              "  const element = document.createElement('span');\n",
              "  element.textContent = text;\n",
              "  for (const key of Object.keys(styleAttributes)) {\n",
              "    element.style[key] = styleAttributes[key];\n",
              "  }\n",
              "  return element;\n",
              "}\n",
              "\n",
              "// Max number of bytes which will be uploaded at a time.\n",
              "const MAX_PAYLOAD_SIZE = 100 * 1024;\n",
              "\n",
              "function _uploadFiles(inputId, outputId) {\n",
              "  const steps = uploadFilesStep(inputId, outputId);\n",
              "  const outputElement = document.getElementById(outputId);\n",
              "  // Cache steps on the outputElement to make it available for the next call\n",
              "  // to uploadFilesContinue from Python.\n",
              "  outputElement.steps = steps;\n",
              "\n",
              "  return _uploadFilesContinue(outputId);\n",
              "}\n",
              "\n",
              "// This is roughly an async generator (not supported in the browser yet),\n",
              "// where there are multiple asynchronous steps and the Python side is going\n",
              "// to poll for completion of each step.\n",
              "// This uses a Promise to block the python side on completion of each step,\n",
              "// then passes the result of the previous step as the input to the next step.\n",
              "function _uploadFilesContinue(outputId) {\n",
              "  const outputElement = document.getElementById(outputId);\n",
              "  const steps = outputElement.steps;\n",
              "\n",
              "  const next = steps.next(outputElement.lastPromiseValue);\n",
              "  return Promise.resolve(next.value.promise).then((value) => {\n",
              "    // Cache the last promise value to make it available to the next\n",
              "    // step of the generator.\n",
              "    outputElement.lastPromiseValue = value;\n",
              "    return next.value.response;\n",
              "  });\n",
              "}\n",
              "\n",
              "/**\n",
              " * Generator function which is called between each async step of the upload\n",
              " * process.\n",
              " * @param {string} inputId Element ID of the input file picker element.\n",
              " * @param {string} outputId Element ID of the output display.\n",
              " * @return {!Iterable<!Object>} Iterable of next steps.\n",
              " */\n",
              "function* uploadFilesStep(inputId, outputId) {\n",
              "  const inputElement = document.getElementById(inputId);\n",
              "  inputElement.disabled = false;\n",
              "\n",
              "  const outputElement = document.getElementById(outputId);\n",
              "  outputElement.innerHTML = '';\n",
              "\n",
              "  const pickedPromise = new Promise((resolve) => {\n",
              "    inputElement.addEventListener('change', (e) => {\n",
              "      resolve(e.target.files);\n",
              "    });\n",
              "  });\n",
              "\n",
              "  const cancel = document.createElement('button');\n",
              "  inputElement.parentElement.appendChild(cancel);\n",
              "  cancel.textContent = 'Cancel upload';\n",
              "  const cancelPromise = new Promise((resolve) => {\n",
              "    cancel.onclick = () => {\n",
              "      resolve(null);\n",
              "    };\n",
              "  });\n",
              "\n",
              "  // Wait for the user to pick the files.\n",
              "  const files = yield {\n",
              "    promise: Promise.race([pickedPromise, cancelPromise]),\n",
              "    response: {\n",
              "      action: 'starting',\n",
              "    }\n",
              "  };\n",
              "\n",
              "  cancel.remove();\n",
              "\n",
              "  // Disable the input element since further picks are not allowed.\n",
              "  inputElement.disabled = true;\n",
              "\n",
              "  if (!files) {\n",
              "    return {\n",
              "      response: {\n",
              "        action: 'complete',\n",
              "      }\n",
              "    };\n",
              "  }\n",
              "\n",
              "  for (const file of files) {\n",
              "    const li = document.createElement('li');\n",
              "    li.append(span(file.name, {fontWeight: 'bold'}));\n",
              "    li.append(span(\n",
              "        `(${file.type || 'n/a'}) - ${file.size} bytes, ` +\n",
              "        `last modified: ${\n",
              "            file.lastModifiedDate ? file.lastModifiedDate.toLocaleDateString() :\n",
              "                                    'n/a'} - `));\n",
              "    const percent = span('0% done');\n",
              "    li.appendChild(percent);\n",
              "\n",
              "    outputElement.appendChild(li);\n",
              "\n",
              "    const fileDataPromise = new Promise((resolve) => {\n",
              "      const reader = new FileReader();\n",
              "      reader.onload = (e) => {\n",
              "        resolve(e.target.result);\n",
              "      };\n",
              "      reader.readAsArrayBuffer(file);\n",
              "    });\n",
              "    // Wait for the data to be ready.\n",
              "    let fileData = yield {\n",
              "      promise: fileDataPromise,\n",
              "      response: {\n",
              "        action: 'continue',\n",
              "      }\n",
              "    };\n",
              "\n",
              "    // Use a chunked sending to avoid message size limits. See b/62115660.\n",
              "    let position = 0;\n",
              "    do {\n",
              "      const length = Math.min(fileData.byteLength - position, MAX_PAYLOAD_SIZE);\n",
              "      const chunk = new Uint8Array(fileData, position, length);\n",
              "      position += length;\n",
              "\n",
              "      const base64 = btoa(String.fromCharCode.apply(null, chunk));\n",
              "      yield {\n",
              "        response: {\n",
              "          action: 'append',\n",
              "          file: file.name,\n",
              "          data: base64,\n",
              "        },\n",
              "      };\n",
              "\n",
              "      let percentDone = fileData.byteLength === 0 ?\n",
              "          100 :\n",
              "          Math.round((position / fileData.byteLength) * 100);\n",
              "      percent.textContent = `${percentDone}% done`;\n",
              "\n",
              "    } while (position < fileData.byteLength);\n",
              "  }\n",
              "\n",
              "  // All done.\n",
              "  yield {\n",
              "    response: {\n",
              "      action: 'complete',\n",
              "    }\n",
              "  };\n",
              "}\n",
              "\n",
              "scope.google = scope.google || {};\n",
              "scope.google.colab = scope.google.colab || {};\n",
              "scope.google.colab._files = {\n",
              "  _uploadFiles,\n",
              "  _uploadFilesContinue,\n",
              "};\n",
              "})(self);\n",
              "</script> "
            ]
          },
          "metadata": {}
        },
        {
          "output_type": "stream",
          "name": "stdout",
          "text": [
            "Saving stars.csv to stars.csv\n"
          ]
        },
        {
          "output_type": "execute_result",
          "data": {
            "text/plain": [
              "{'stars.csv': b'Size,Light\\r\\n5.882677110577015,1.3254107540216171\\r\\n10.912829741849272,3.183217305377668\\r\\n0.2811898677941287,0.6200107602625141\\r\\n7.682622739447462,1.8045775630001801\\r\\n11.03407102230486,3.3904400900453187\\r\\n0.849883472175706,0.8265615706603154\\r\\n6.473467494519349,0.9999718666648862\\r\\n12.17993640978502,4.376956420140158\\r\\n0.18253329148189035,0.24372793276766747\\r\\n7.5682095646369785,1.3105306838396567\\r\\n12.69679004883339,2.035843759553087\\r\\n0.027703769354156527,0.6439061119800805\\r\\n5.200217140645759,1.9039285450541823\\r\\n14.84844866859369,9.206770859774384\\r\\n0.259068218351282,0.7830553635724311\\r\\n6.124343795495355,1.1005551034677512\\r\\n10.063012145407368,6.842357200049468\\r\\n0.5067563935964172,0.7437021380932864\\r\\n6.282218313984021,0.16934717567216206\\r\\n14.02518299510856,7.435553591398383\\r\\n0.054341157522421635,0.19156329416469464\\r\\n6.276266544447098,0.33758451677258483\\r\\n10.311574480169604,9.41636235330795\\r\\n0.9995872678923662,0.29189378652456344\\r\\n5.229165522798715,0.02493251746098668\\r\\n12.774522894829772,3.359901155094552\\r\\n0.992871732918259,0.2772194143235812\\r\\n6.782031264737263,0.23741951270397643\\r\\n12.733557378565273,4.986289309542314\\r\\n0.140921306192209,0.44453679158275095\\r\\n5.08774426384934,0.3371881980200997\\r\\n14.781572826678222,3.0263682290425606\\r\\n0.20758125200975064,0.4006389459313925\\r\\n5.774216442745803,1.018177872258571\\r\\n14.421880853900774,5.065613305947155\\r\\n0.6121779166537155,0.7545439954962615\\r\\n7.84657615588474,0.8179473404091615\\r\\n13.65219272535975,4.196248191393661\\r\\n0.08825084198083122,0.310752668396447\\r\\n7.499278380868503,1.5656451875075692\\r\\n12.253527547950611,5.548710221166132\\r\\n0.7647705203327447,0.8194963361052416\\r\\n5.926569062178362,0.12175672259283776\\r\\n10.367916068218126,7.813800204849288\\r\\n0.7340023161733802,0.31246216747518696\\r\\n7.162859924407057,1.529453457424633\\r\\n10.435320464765283,6.113515379580372\\r\\n0.9670562832895838,0.3186917850132911\\r\\n5.12900849417646,0.4811628025170529\\r\\n13.8136036031457,3.4145102139625614\\r\\n0.09209504641145017,0.3983860633267231\\r\\n6.338301035074046,1.0232754384291431\\r\\n14.699618333218893,9.606953687723102\\r\\n0.3628604486525623,0.6135626145765912\\r\\n6.540583934511781,1.0228740148050142\\r\\n11.930843266496732,3.9843670539237177\\r\\n0.5963062918387443,0.9132497840068828\\r\\n5.166940512458978,0.32026182484197663\\r\\n10.174622334910573,5.462776366817291\\r\\n0.5480646136922991,0.22554108810622409\\r\\n6.045394900082553,0.06579754097413315\\r\\n12.4171748823078,9.548807332762937\\r\\n0.9291753112400964,0.6911844935453999\\r\\n6.105737820026733,0.07442734709139298\\r\\n11.255966284587368,2.7762364186489457\\r\\n0.2858485430879173,0.8220512577008073\\r\\n7.841890066183929,1.5421511020153407\\r\\n13.864955265727403,4.847192392007801\\r\\n0.28852255251385883,0.5477355511258448\\r\\n5.566343473368446,0.6107776486076262\\r\\n10.41513273850386,2.8911140684054644\\r\\n0.5588856132243603,0.2898235182568031\\r\\n6.993336061962861,1.8675696540057467\\r\\n12.334595248703547,9.038427660869665\\r\\n0.08473752013869884,0.6596512501496302\\r\\n5.547233869255975,0.7278042327286223\\r\\n10.957420390094898,2.6130447885335437\\r\\n0.5559702608627309,0.0795709570393468\\r\\n5.454960468318259,1.5821975235822587\\r\\n14.800598305873008,6.588734375706124\\r\\n0.965094549680252,0.6046791991108178\\r\\n7.361434534296507,0.5024840219809037\\r\\n14.199984112681136,2.4098412108916554\\r\\n0.44104321444380123,0.9638640170914982\\r\\n7.589228018483846,0.530984319143398\\r\\n12.990758751964613,6.681481444255494\\r\\n0.8883291777747041,0.12982553759977689\\r\\n6.568474883743718,0.23150524752303459\\r\\n10.62747539496314,7.5385694156728\\r\\n0.3810802253876655,0.02557041402281468\\r\\n6.36006233965395,1.1121073002210111\\r\\n14.67512541729659,3.639049287218893\\r\\n0.017826525220946854,0.26270206880204316\\r\\n5.132042704423335,0.801876216760425\\r\\n10.362837422953763,2.52081029579053\\r\\n0.785859690344634,0.6219078855510484\\r\\n6.697102949489528,1.6757501199726792\\r\\n11.074357920150797,4.543634411345299\\r\\n0.821132525603258,0.8084991665065115\\r\\n5.595077199074354,1.2012873698491309\\r\\n13.707022192731266,8.11856780476936\\r\\n0.8193225176169054,0.4744696505634506\\r\\n6.663370444672838,0.38249815944313625\\r\\n13.878767935252881,7.027870036245332\\r\\n0.9601251760166833,0.8980284677121467\\r\\n6.588184428768933,0.49131105464879\\r\\n11.747750668713298,5.037223221607506\\r\\n0.5772128447292312,0.21140649199794093\\r\\n5.728787248495453,0.5306452085025739\\r\\n10.096014013689718,4.85661104967523\\r\\n0.3715078621196577,0.17944002670872472\\r\\n6.222687172098961,0.7978764261073032\\r\\n10.349859960449042,2.193468258738821\\r\\n0.37205289272449105,0.512774111077859\\r\\n5.971020608677074,1.7863985611026452\\r\\n13.713062283111936,5.102416913066488\\r\\n0.9149150879070349,0.8055132569536222\\r\\n7.082123018471638,1.737880893718023\\r\\n13.63453693952001,8.705579150188619\\r\\n0.9858906151540989,0.19535864533920577\\r\\n7.035005498767369,1.3471287813793504\\r\\n11.115489232906869,6.666780239568057\\r\\n0.42082494428637895,0.284875969917205\\r\\n7.708367153426053,1.3393880111352234\\r\\n12.89790103291452,7.796950595292506\\r\\n0.4335613250824579,0.09047213508268992\\r\\n7.249261139901567,1.6132952982095787\\r\\n12.065157754754289,7.305450600177805\\r\\n0.8398466051644851,0.27537945156932486\\r\\n5.139876560884019,1.3071310056231797\\r\\n10.186405377182059,7.682591470472628\\r\\n0.16775971175923254,0.7029197358626283\\r\\n7.1908620601203275,0.2609579363011534\\r\\n10.755584771914457,5.257948001602233\\r\\n0.8154650305381588,0.21472412232948768\\r\\n7.98068149786919,1.3697214537797748\\r\\n11.431025785531311,3.130029627022882\\r\\n0.13368470011314704,0.9681118619001611\\r\\n7.28023635065119,1.0992420211503318\\r\\n12.934223566008214,5.1353879609761925\\r\\n0.28360174202870314,0.053689804655275064\\r\\n5.793998525161985,0.4611037234989517\\r\\n10.06468764971327,9.871404304035822\\r\\n0.5581292831153902,0.07674323401556649\\r\\n7.74230770580416,0.41545106701920353\\r\\n11.215165059297332,4.828228289872266\\r\\n0.08155476584206256,0.9042417017797126\\r\\n6.879420661840806,0.2693909304979325\\r\\n12.939503155871826,2.3650760935249284\\r\\n0.5804063000471639,0.32718776197627486\\r\\n'}"
            ]
          },
          "metadata": {},
          "execution_count": 1
        }
      ],
      "source": [
        "from google.colab import files\n",
        "files.upload()"
      ]
    },
    {
      "cell_type": "code",
      "source": [
        "import pandas as pd\n",
        "import plotly.express as px\n",
        "\n",
        "df = pd.read_csv('stars.csv')\n",
        "df.head()"
      ],
      "metadata": {
        "colab": {
          "base_uri": "https://localhost:8080/",
          "height": 206
        },
        "id": "G2RwaHl_x0Ai",
        "outputId": "217fb694-fb3e-44b4-8dab-b4cb18001385"
      },
      "execution_count": 2,
      "outputs": [
        {
          "output_type": "execute_result",
          "data": {
            "text/plain": [
              "        Size     Light\n",
              "0   5.882677  1.325411\n",
              "1  10.912830  3.183217\n",
              "2   0.281190  0.620011\n",
              "3   7.682623  1.804578\n",
              "4  11.034071  3.390440"
            ],
            "text/html": [
              "\n",
              "  <div id=\"df-df38d405-1577-44bf-9a03-e24d4614a017\" class=\"colab-df-container\">\n",
              "    <div>\n",
              "<style scoped>\n",
              "    .dataframe tbody tr th:only-of-type {\n",
              "        vertical-align: middle;\n",
              "    }\n",
              "\n",
              "    .dataframe tbody tr th {\n",
              "        vertical-align: top;\n",
              "    }\n",
              "\n",
              "    .dataframe thead th {\n",
              "        text-align: right;\n",
              "    }\n",
              "</style>\n",
              "<table border=\"1\" class=\"dataframe\">\n",
              "  <thead>\n",
              "    <tr style=\"text-align: right;\">\n",
              "      <th></th>\n",
              "      <th>Size</th>\n",
              "      <th>Light</th>\n",
              "    </tr>\n",
              "  </thead>\n",
              "  <tbody>\n",
              "    <tr>\n",
              "      <th>0</th>\n",
              "      <td>5.882677</td>\n",
              "      <td>1.325411</td>\n",
              "    </tr>\n",
              "    <tr>\n",
              "      <th>1</th>\n",
              "      <td>10.912830</td>\n",
              "      <td>3.183217</td>\n",
              "    </tr>\n",
              "    <tr>\n",
              "      <th>2</th>\n",
              "      <td>0.281190</td>\n",
              "      <td>0.620011</td>\n",
              "    </tr>\n",
              "    <tr>\n",
              "      <th>3</th>\n",
              "      <td>7.682623</td>\n",
              "      <td>1.804578</td>\n",
              "    </tr>\n",
              "    <tr>\n",
              "      <th>4</th>\n",
              "      <td>11.034071</td>\n",
              "      <td>3.390440</td>\n",
              "    </tr>\n",
              "  </tbody>\n",
              "</table>\n",
              "</div>\n",
              "    <div class=\"colab-df-buttons\">\n",
              "\n",
              "  <div class=\"colab-df-container\">\n",
              "    <button class=\"colab-df-convert\" onclick=\"convertToInteractive('df-df38d405-1577-44bf-9a03-e24d4614a017')\"\n",
              "            title=\"Convert this dataframe to an interactive table.\"\n",
              "            style=\"display:none;\">\n",
              "\n",
              "  <svg xmlns=\"http://www.w3.org/2000/svg\" height=\"24px\" viewBox=\"0 -960 960 960\">\n",
              "    <path d=\"M120-120v-720h720v720H120Zm60-500h600v-160H180v160Zm220 220h160v-160H400v160Zm0 220h160v-160H400v160ZM180-400h160v-160H180v160Zm440 0h160v-160H620v160ZM180-180h160v-160H180v160Zm440 0h160v-160H620v160Z\"/>\n",
              "  </svg>\n",
              "    </button>\n",
              "\n",
              "  <style>\n",
              "    .colab-df-container {\n",
              "      display:flex;\n",
              "      gap: 12px;\n",
              "    }\n",
              "\n",
              "    .colab-df-convert {\n",
              "      background-color: #E8F0FE;\n",
              "      border: none;\n",
              "      border-radius: 50%;\n",
              "      cursor: pointer;\n",
              "      display: none;\n",
              "      fill: #1967D2;\n",
              "      height: 32px;\n",
              "      padding: 0 0 0 0;\n",
              "      width: 32px;\n",
              "    }\n",
              "\n",
              "    .colab-df-convert:hover {\n",
              "      background-color: #E2EBFA;\n",
              "      box-shadow: 0px 1px 2px rgba(60, 64, 67, 0.3), 0px 1px 3px 1px rgba(60, 64, 67, 0.15);\n",
              "      fill: #174EA6;\n",
              "    }\n",
              "\n",
              "    .colab-df-buttons div {\n",
              "      margin-bottom: 4px;\n",
              "    }\n",
              "\n",
              "    [theme=dark] .colab-df-convert {\n",
              "      background-color: #3B4455;\n",
              "      fill: #D2E3FC;\n",
              "    }\n",
              "\n",
              "    [theme=dark] .colab-df-convert:hover {\n",
              "      background-color: #434B5C;\n",
              "      box-shadow: 0px 1px 3px 1px rgba(0, 0, 0, 0.15);\n",
              "      filter: drop-shadow(0px 1px 2px rgba(0, 0, 0, 0.3));\n",
              "      fill: #FFFFFF;\n",
              "    }\n",
              "  </style>\n",
              "\n",
              "    <script>\n",
              "      const buttonEl =\n",
              "        document.querySelector('#df-df38d405-1577-44bf-9a03-e24d4614a017 button.colab-df-convert');\n",
              "      buttonEl.style.display =\n",
              "        google.colab.kernel.accessAllowed ? 'block' : 'none';\n",
              "\n",
              "      async function convertToInteractive(key) {\n",
              "        const element = document.querySelector('#df-df38d405-1577-44bf-9a03-e24d4614a017');\n",
              "        const dataTable =\n",
              "          await google.colab.kernel.invokeFunction('convertToInteractive',\n",
              "                                                    [key], {});\n",
              "        if (!dataTable) return;\n",
              "\n",
              "        const docLinkHtml = 'Like what you see? Visit the ' +\n",
              "          '<a target=\"_blank\" href=https://colab.research.google.com/notebooks/data_table.ipynb>data table notebook</a>'\n",
              "          + ' to learn more about interactive tables.';\n",
              "        element.innerHTML = '';\n",
              "        dataTable['output_type'] = 'display_data';\n",
              "        await google.colab.output.renderOutput(dataTable, element);\n",
              "        const docLink = document.createElement('div');\n",
              "        docLink.innerHTML = docLinkHtml;\n",
              "        element.appendChild(docLink);\n",
              "      }\n",
              "    </script>\n",
              "  </div>\n",
              "\n",
              "\n",
              "<div id=\"df-27e7af0d-a822-46db-a791-768497a8885b\">\n",
              "  <button class=\"colab-df-quickchart\" onclick=\"quickchart('df-27e7af0d-a822-46db-a791-768497a8885b')\"\n",
              "            title=\"Suggest charts\"\n",
              "            style=\"display:none;\">\n",
              "\n",
              "<svg xmlns=\"http://www.w3.org/2000/svg\" height=\"24px\"viewBox=\"0 0 24 24\"\n",
              "     width=\"24px\">\n",
              "    <g>\n",
              "        <path d=\"M19 3H5c-1.1 0-2 .9-2 2v14c0 1.1.9 2 2 2h14c1.1 0 2-.9 2-2V5c0-1.1-.9-2-2-2zM9 17H7v-7h2v7zm4 0h-2V7h2v10zm4 0h-2v-4h2v4z\"/>\n",
              "    </g>\n",
              "</svg>\n",
              "  </button>\n",
              "\n",
              "<style>\n",
              "  .colab-df-quickchart {\n",
              "      --bg-color: #E8F0FE;\n",
              "      --fill-color: #1967D2;\n",
              "      --hover-bg-color: #E2EBFA;\n",
              "      --hover-fill-color: #174EA6;\n",
              "      --disabled-fill-color: #AAA;\n",
              "      --disabled-bg-color: #DDD;\n",
              "  }\n",
              "\n",
              "  [theme=dark] .colab-df-quickchart {\n",
              "      --bg-color: #3B4455;\n",
              "      --fill-color: #D2E3FC;\n",
              "      --hover-bg-color: #434B5C;\n",
              "      --hover-fill-color: #FFFFFF;\n",
              "      --disabled-bg-color: #3B4455;\n",
              "      --disabled-fill-color: #666;\n",
              "  }\n",
              "\n",
              "  .colab-df-quickchart {\n",
              "    background-color: var(--bg-color);\n",
              "    border: none;\n",
              "    border-radius: 50%;\n",
              "    cursor: pointer;\n",
              "    display: none;\n",
              "    fill: var(--fill-color);\n",
              "    height: 32px;\n",
              "    padding: 0;\n",
              "    width: 32px;\n",
              "  }\n",
              "\n",
              "  .colab-df-quickchart:hover {\n",
              "    background-color: var(--hover-bg-color);\n",
              "    box-shadow: 0 1px 2px rgba(60, 64, 67, 0.3), 0 1px 3px 1px rgba(60, 64, 67, 0.15);\n",
              "    fill: var(--button-hover-fill-color);\n",
              "  }\n",
              "\n",
              "  .colab-df-quickchart-complete:disabled,\n",
              "  .colab-df-quickchart-complete:disabled:hover {\n",
              "    background-color: var(--disabled-bg-color);\n",
              "    fill: var(--disabled-fill-color);\n",
              "    box-shadow: none;\n",
              "  }\n",
              "\n",
              "  .colab-df-spinner {\n",
              "    border: 2px solid var(--fill-color);\n",
              "    border-color: transparent;\n",
              "    border-bottom-color: var(--fill-color);\n",
              "    animation:\n",
              "      spin 1s steps(1) infinite;\n",
              "  }\n",
              "\n",
              "  @keyframes spin {\n",
              "    0% {\n",
              "      border-color: transparent;\n",
              "      border-bottom-color: var(--fill-color);\n",
              "      border-left-color: var(--fill-color);\n",
              "    }\n",
              "    20% {\n",
              "      border-color: transparent;\n",
              "      border-left-color: var(--fill-color);\n",
              "      border-top-color: var(--fill-color);\n",
              "    }\n",
              "    30% {\n",
              "      border-color: transparent;\n",
              "      border-left-color: var(--fill-color);\n",
              "      border-top-color: var(--fill-color);\n",
              "      border-right-color: var(--fill-color);\n",
              "    }\n",
              "    40% {\n",
              "      border-color: transparent;\n",
              "      border-right-color: var(--fill-color);\n",
              "      border-top-color: var(--fill-color);\n",
              "    }\n",
              "    60% {\n",
              "      border-color: transparent;\n",
              "      border-right-color: var(--fill-color);\n",
              "    }\n",
              "    80% {\n",
              "      border-color: transparent;\n",
              "      border-right-color: var(--fill-color);\n",
              "      border-bottom-color: var(--fill-color);\n",
              "    }\n",
              "    90% {\n",
              "      border-color: transparent;\n",
              "      border-bottom-color: var(--fill-color);\n",
              "    }\n",
              "  }\n",
              "</style>\n",
              "\n",
              "  <script>\n",
              "    async function quickchart(key) {\n",
              "      const quickchartButtonEl =\n",
              "        document.querySelector('#' + key + ' button');\n",
              "      quickchartButtonEl.disabled = true;  // To prevent multiple clicks.\n",
              "      quickchartButtonEl.classList.add('colab-df-spinner');\n",
              "      try {\n",
              "        const charts = await google.colab.kernel.invokeFunction(\n",
              "            'suggestCharts', [key], {});\n",
              "      } catch (error) {\n",
              "        console.error('Error during call to suggestCharts:', error);\n",
              "      }\n",
              "      quickchartButtonEl.classList.remove('colab-df-spinner');\n",
              "      quickchartButtonEl.classList.add('colab-df-quickchart-complete');\n",
              "    }\n",
              "    (() => {\n",
              "      let quickchartButtonEl =\n",
              "        document.querySelector('#df-27e7af0d-a822-46db-a791-768497a8885b button');\n",
              "      quickchartButtonEl.style.display =\n",
              "        google.colab.kernel.accessAllowed ? 'block' : 'none';\n",
              "    })();\n",
              "  </script>\n",
              "</div>\n",
              "\n",
              "    </div>\n",
              "  </div>\n"
            ]
          },
          "metadata": {},
          "execution_count": 2
        }
      ]
    },
    {
      "cell_type": "code",
      "source": [
        "fig = px.scatter(df, x = 'Size', y = 'Light')\n",
        "fig.show()"
      ],
      "metadata": {
        "colab": {
          "base_uri": "https://localhost:8080/",
          "height": 542
        },
        "id": "J7APm0syzVd-",
        "outputId": "fb4a3a29-d496-4425-8783-85735d9183ab"
      },
      "execution_count": 3,
      "outputs": [
        {
          "output_type": "display_data",
          "data": {
            "text/html": [
              "<html>\n",
              "<head><meta charset=\"utf-8\" /></head>\n",
              "<body>\n",
              "    <div>            <script src=\"https://cdnjs.cloudflare.com/ajax/libs/mathjax/2.7.5/MathJax.js?config=TeX-AMS-MML_SVG\"></script><script type=\"text/javascript\">if (window.MathJax && window.MathJax.Hub && window.MathJax.Hub.Config) {window.MathJax.Hub.Config({SVG: {font: \"STIX-Web\"}});}</script>                <script type=\"text/javascript\">window.PlotlyConfig = {MathJaxConfig: 'local'};</script>\n",
              "        <script charset=\"utf-8\" src=\"https://cdn.plot.ly/plotly-2.24.1.min.js\"></script>                <div id=\"3b1360d5-be5f-49a2-9e26-b93ad78f7d83\" class=\"plotly-graph-div\" style=\"height:525px; width:100%;\"></div>            <script type=\"text/javascript\">                                    window.PLOTLYENV=window.PLOTLYENV || {};                                    if (document.getElementById(\"3b1360d5-be5f-49a2-9e26-b93ad78f7d83\")) {                    Plotly.newPlot(                        \"3b1360d5-be5f-49a2-9e26-b93ad78f7d83\",                        [{\"hovertemplate\":\"Size=%{x}\\u003cbr\\u003eLight=%{y}\\u003cextra\\u003e\\u003c\\u002fextra\\u003e\",\"legendgroup\":\"\",\"marker\":{\"color\":\"#636efa\",\"symbol\":\"circle\"},\"mode\":\"markers\",\"name\":\"\",\"orientation\":\"v\",\"showlegend\":false,\"x\":[5.882677110577015,10.912829741849272,0.2811898677941287,7.682622739447462,11.03407102230486,0.849883472175706,6.473467494519349,12.17993640978502,0.1825332914818903,7.568209564636978,12.69679004883339,0.0277037693541565,5.200217140645759,14.84844866859369,0.259068218351282,6.124343795495355,10.063012145407368,0.5067563935964172,6.282218313984021,14.02518299510856,0.0543411575224216,6.276266544447098,10.311574480169604,0.9995872678923662,5.229165522798715,12.774522894829772,0.992871732918259,6.782031264737263,12.733557378565273,0.140921306192209,5.08774426384934,14.781572826678222,0.2075812520097506,5.774216442745803,14.421880853900774,0.6121779166537155,7.84657615588474,13.65219272535975,0.0882508419808312,7.499278380868503,12.253527547950611,0.7647705203327447,5.926569062178362,10.367916068218126,0.7340023161733802,7.162859924407057,10.435320464765285,0.9670562832895838,5.12900849417646,13.8136036031457,0.0920950464114501,6.338301035074046,14.699618333218892,0.3628604486525623,6.540583934511781,11.930843266496732,0.5963062918387443,5.166940512458978,10.174622334910572,0.5480646136922991,6.045394900082553,12.4171748823078,0.9291753112400964,6.105737820026733,11.255966284587368,0.2858485430879173,7.841890066183929,13.864955265727405,0.2885225525138588,5.566343473368446,10.41513273850386,0.5588856132243603,6.993336061962861,12.334595248703549,0.0847375201386988,5.547233869255975,10.957420390094898,0.5559702608627309,5.454960468318259,14.800598305873008,0.965094549680252,7.361434534296507,14.199984112681136,0.4410432144438012,7.589228018483846,12.990758751964613,0.8883291777747041,6.568474883743718,10.62747539496314,0.3810802253876655,6.36006233965395,14.67512541729659,0.0178265252209468,5.132042704423335,10.362837422953763,0.785859690344634,6.697102949489528,11.074357920150796,0.821132525603258,5.595077199074354,13.707022192731266,0.8193225176169054,6.663370444672838,13.87876793525288,0.9601251760166832,6.588184428768933,11.747750668713298,0.5772128447292312,5.728787248495453,10.096014013689718,0.3715078621196577,6.222687172098961,10.349859960449042,0.372052892724491,5.971020608677074,13.713062283111936,0.9149150879070348,7.082123018471638,13.63453693952001,0.9858906151540988,7.035005498767369,11.115489232906867,0.4208249442863789,7.708367153426053,12.89790103291452,0.4335613250824579,7.249261139901567,12.065157754754289,0.8398466051644851,5.139876560884019,10.18640537718206,0.1677597117592325,7.190862060120328,10.755584771914457,0.8154650305381588,7.98068149786919,11.431025785531313,0.133684700113147,7.28023635065119,12.934223566008214,0.2836017420287031,5.793998525161985,10.06468764971327,0.5581292831153902,7.74230770580416,11.215165059297332,0.0815547658420625,6.879420661840806,12.939503155871826,0.5804063000471639],\"xaxis\":\"x\",\"y\":[1.3254107540216171,3.183217305377668,0.6200107602625141,1.80457756300018,3.3904400900453187,0.8265615706603154,0.9999718666648862,4.376956420140158,0.2437279327676674,1.3105306838396569,2.035843759553087,0.6439061119800805,1.9039285450541823,9.206770859774384,0.7830553635724311,1.1005551034677512,6.842357200049468,0.7437021380932864,0.169347175672162,7.435553591398383,0.1915632941646946,0.3375845167725848,9.41636235330795,0.2918937865245634,0.0249325174609866,3.359901155094552,0.2772194143235812,0.2374195127039764,4.986289309542314,0.4445367915827509,0.3371881980200997,3.0263682290425606,0.4006389459313925,1.018177872258571,5.065613305947155,0.7545439954962615,0.8179473404091615,4.196248191393661,0.310752668396447,1.5656451875075692,5.548710221166132,0.8194963361052416,0.1217567225928377,7.813800204849288,0.3124621674751869,1.529453457424633,6.113515379580372,0.3186917850132911,0.4811628025170529,3.4145102139625614,0.3983860633267231,1.0232754384291431,9.606953687723102,0.6135626145765912,1.0228740148050142,3.9843670539237177,0.9132497840068828,0.3202618248419766,5.462776366817291,0.225541088106224,0.0657975409741331,9.548807332762935,0.6911844935453999,0.0744273470913929,2.7762364186489457,0.8220512577008073,1.542151102015341,4.847192392007801,0.5477355511258448,0.6107776486076262,2.8911140684054644,0.2898235182568031,1.8675696540057467,9.038427660869663,0.6596512501496302,0.7278042327286223,2.613044788533544,0.0795709570393468,1.5821975235822587,6.588734375706124,0.6046791991108178,0.5024840219809037,2.409841210891656,0.9638640170914982,0.530984319143398,6.681481444255494,0.1298255375997768,0.2315052475230345,7.5385694156728,0.0255704140228146,1.1121073002210111,3.639049287218893,0.2627020688020431,0.801876216760425,2.52081029579053,0.6219078855510484,1.6757501199726792,4.543634411345299,0.8084991665065115,1.2012873698491309,8.11856780476936,0.4744696505634506,0.3824981594431362,7.027870036245332,0.8980284677121467,0.49131105464879,5.037223221607506,0.2114064919979409,0.5306452085025739,4.85661104967523,0.1794400267087247,0.7978764261073032,2.193468258738821,0.512774111077859,1.7863985611026452,5.102416913066488,0.8055132569536222,1.737880893718023,8.705579150188619,0.1953586453392057,1.3471287813793504,6.666780239568057,0.284875969917205,1.3393880111352234,7.796950595292506,0.0904721350826899,1.6132952982095787,7.305450600177805,0.2753794515693248,1.3071310056231795,7.682591470472628,0.7029197358626283,0.2609579363011534,5.257948001602233,0.2147241223294876,1.3697214537797748,3.130029627022882,0.9681118619001612,1.0992420211503318,5.1353879609761925,0.053689804655275,0.4611037234989517,9.871404304035822,0.0767432340155664,0.4154510670192035,4.828228289872266,0.9042417017797126,0.2693909304979325,2.3650760935249284,0.3271877619762748],\"yaxis\":\"y\",\"type\":\"scatter\"}],                        {\"template\":{\"data\":{\"histogram2dcontour\":[{\"type\":\"histogram2dcontour\",\"colorbar\":{\"outlinewidth\":0,\"ticks\":\"\"},\"colorscale\":[[0.0,\"#0d0887\"],[0.1111111111111111,\"#46039f\"],[0.2222222222222222,\"#7201a8\"],[0.3333333333333333,\"#9c179e\"],[0.4444444444444444,\"#bd3786\"],[0.5555555555555556,\"#d8576b\"],[0.6666666666666666,\"#ed7953\"],[0.7777777777777778,\"#fb9f3a\"],[0.8888888888888888,\"#fdca26\"],[1.0,\"#f0f921\"]]}],\"choropleth\":[{\"type\":\"choropleth\",\"colorbar\":{\"outlinewidth\":0,\"ticks\":\"\"}}],\"histogram2d\":[{\"type\":\"histogram2d\",\"colorbar\":{\"outlinewidth\":0,\"ticks\":\"\"},\"colorscale\":[[0.0,\"#0d0887\"],[0.1111111111111111,\"#46039f\"],[0.2222222222222222,\"#7201a8\"],[0.3333333333333333,\"#9c179e\"],[0.4444444444444444,\"#bd3786\"],[0.5555555555555556,\"#d8576b\"],[0.6666666666666666,\"#ed7953\"],[0.7777777777777778,\"#fb9f3a\"],[0.8888888888888888,\"#fdca26\"],[1.0,\"#f0f921\"]]}],\"heatmap\":[{\"type\":\"heatmap\",\"colorbar\":{\"outlinewidth\":0,\"ticks\":\"\"},\"colorscale\":[[0.0,\"#0d0887\"],[0.1111111111111111,\"#46039f\"],[0.2222222222222222,\"#7201a8\"],[0.3333333333333333,\"#9c179e\"],[0.4444444444444444,\"#bd3786\"],[0.5555555555555556,\"#d8576b\"],[0.6666666666666666,\"#ed7953\"],[0.7777777777777778,\"#fb9f3a\"],[0.8888888888888888,\"#fdca26\"],[1.0,\"#f0f921\"]]}],\"heatmapgl\":[{\"type\":\"heatmapgl\",\"colorbar\":{\"outlinewidth\":0,\"ticks\":\"\"},\"colorscale\":[[0.0,\"#0d0887\"],[0.1111111111111111,\"#46039f\"],[0.2222222222222222,\"#7201a8\"],[0.3333333333333333,\"#9c179e\"],[0.4444444444444444,\"#bd3786\"],[0.5555555555555556,\"#d8576b\"],[0.6666666666666666,\"#ed7953\"],[0.7777777777777778,\"#fb9f3a\"],[0.8888888888888888,\"#fdca26\"],[1.0,\"#f0f921\"]]}],\"contourcarpet\":[{\"type\":\"contourcarpet\",\"colorbar\":{\"outlinewidth\":0,\"ticks\":\"\"}}],\"contour\":[{\"type\":\"contour\",\"colorbar\":{\"outlinewidth\":0,\"ticks\":\"\"},\"colorscale\":[[0.0,\"#0d0887\"],[0.1111111111111111,\"#46039f\"],[0.2222222222222222,\"#7201a8\"],[0.3333333333333333,\"#9c179e\"],[0.4444444444444444,\"#bd3786\"],[0.5555555555555556,\"#d8576b\"],[0.6666666666666666,\"#ed7953\"],[0.7777777777777778,\"#fb9f3a\"],[0.8888888888888888,\"#fdca26\"],[1.0,\"#f0f921\"]]}],\"surface\":[{\"type\":\"surface\",\"colorbar\":{\"outlinewidth\":0,\"ticks\":\"\"},\"colorscale\":[[0.0,\"#0d0887\"],[0.1111111111111111,\"#46039f\"],[0.2222222222222222,\"#7201a8\"],[0.3333333333333333,\"#9c179e\"],[0.4444444444444444,\"#bd3786\"],[0.5555555555555556,\"#d8576b\"],[0.6666666666666666,\"#ed7953\"],[0.7777777777777778,\"#fb9f3a\"],[0.8888888888888888,\"#fdca26\"],[1.0,\"#f0f921\"]]}],\"mesh3d\":[{\"type\":\"mesh3d\",\"colorbar\":{\"outlinewidth\":0,\"ticks\":\"\"}}],\"scatter\":[{\"fillpattern\":{\"fillmode\":\"overlay\",\"size\":10,\"solidity\":0.2},\"type\":\"scatter\"}],\"parcoords\":[{\"type\":\"parcoords\",\"line\":{\"colorbar\":{\"outlinewidth\":0,\"ticks\":\"\"}}}],\"scatterpolargl\":[{\"type\":\"scatterpolargl\",\"marker\":{\"colorbar\":{\"outlinewidth\":0,\"ticks\":\"\"}}}],\"bar\":[{\"error_x\":{\"color\":\"#2a3f5f\"},\"error_y\":{\"color\":\"#2a3f5f\"},\"marker\":{\"line\":{\"color\":\"#E5ECF6\",\"width\":0.5},\"pattern\":{\"fillmode\":\"overlay\",\"size\":10,\"solidity\":0.2}},\"type\":\"bar\"}],\"scattergeo\":[{\"type\":\"scattergeo\",\"marker\":{\"colorbar\":{\"outlinewidth\":0,\"ticks\":\"\"}}}],\"scatterpolar\":[{\"type\":\"scatterpolar\",\"marker\":{\"colorbar\":{\"outlinewidth\":0,\"ticks\":\"\"}}}],\"histogram\":[{\"marker\":{\"pattern\":{\"fillmode\":\"overlay\",\"size\":10,\"solidity\":0.2}},\"type\":\"histogram\"}],\"scattergl\":[{\"type\":\"scattergl\",\"marker\":{\"colorbar\":{\"outlinewidth\":0,\"ticks\":\"\"}}}],\"scatter3d\":[{\"type\":\"scatter3d\",\"line\":{\"colorbar\":{\"outlinewidth\":0,\"ticks\":\"\"}},\"marker\":{\"colorbar\":{\"outlinewidth\":0,\"ticks\":\"\"}}}],\"scattermapbox\":[{\"type\":\"scattermapbox\",\"marker\":{\"colorbar\":{\"outlinewidth\":0,\"ticks\":\"\"}}}],\"scatterternary\":[{\"type\":\"scatterternary\",\"marker\":{\"colorbar\":{\"outlinewidth\":0,\"ticks\":\"\"}}}],\"scattercarpet\":[{\"type\":\"scattercarpet\",\"marker\":{\"colorbar\":{\"outlinewidth\":0,\"ticks\":\"\"}}}],\"carpet\":[{\"aaxis\":{\"endlinecolor\":\"#2a3f5f\",\"gridcolor\":\"white\",\"linecolor\":\"white\",\"minorgridcolor\":\"white\",\"startlinecolor\":\"#2a3f5f\"},\"baxis\":{\"endlinecolor\":\"#2a3f5f\",\"gridcolor\":\"white\",\"linecolor\":\"white\",\"minorgridcolor\":\"white\",\"startlinecolor\":\"#2a3f5f\"},\"type\":\"carpet\"}],\"table\":[{\"cells\":{\"fill\":{\"color\":\"#EBF0F8\"},\"line\":{\"color\":\"white\"}},\"header\":{\"fill\":{\"color\":\"#C8D4E3\"},\"line\":{\"color\":\"white\"}},\"type\":\"table\"}],\"barpolar\":[{\"marker\":{\"line\":{\"color\":\"#E5ECF6\",\"width\":0.5},\"pattern\":{\"fillmode\":\"overlay\",\"size\":10,\"solidity\":0.2}},\"type\":\"barpolar\"}],\"pie\":[{\"automargin\":true,\"type\":\"pie\"}]},\"layout\":{\"autotypenumbers\":\"strict\",\"colorway\":[\"#636efa\",\"#EF553B\",\"#00cc96\",\"#ab63fa\",\"#FFA15A\",\"#19d3f3\",\"#FF6692\",\"#B6E880\",\"#FF97FF\",\"#FECB52\"],\"font\":{\"color\":\"#2a3f5f\"},\"hovermode\":\"closest\",\"hoverlabel\":{\"align\":\"left\"},\"paper_bgcolor\":\"white\",\"plot_bgcolor\":\"#E5ECF6\",\"polar\":{\"bgcolor\":\"#E5ECF6\",\"angularaxis\":{\"gridcolor\":\"white\",\"linecolor\":\"white\",\"ticks\":\"\"},\"radialaxis\":{\"gridcolor\":\"white\",\"linecolor\":\"white\",\"ticks\":\"\"}},\"ternary\":{\"bgcolor\":\"#E5ECF6\",\"aaxis\":{\"gridcolor\":\"white\",\"linecolor\":\"white\",\"ticks\":\"\"},\"baxis\":{\"gridcolor\":\"white\",\"linecolor\":\"white\",\"ticks\":\"\"},\"caxis\":{\"gridcolor\":\"white\",\"linecolor\":\"white\",\"ticks\":\"\"}},\"coloraxis\":{\"colorbar\":{\"outlinewidth\":0,\"ticks\":\"\"}},\"colorscale\":{\"sequential\":[[0.0,\"#0d0887\"],[0.1111111111111111,\"#46039f\"],[0.2222222222222222,\"#7201a8\"],[0.3333333333333333,\"#9c179e\"],[0.4444444444444444,\"#bd3786\"],[0.5555555555555556,\"#d8576b\"],[0.6666666666666666,\"#ed7953\"],[0.7777777777777778,\"#fb9f3a\"],[0.8888888888888888,\"#fdca26\"],[1.0,\"#f0f921\"]],\"sequentialminus\":[[0.0,\"#0d0887\"],[0.1111111111111111,\"#46039f\"],[0.2222222222222222,\"#7201a8\"],[0.3333333333333333,\"#9c179e\"],[0.4444444444444444,\"#bd3786\"],[0.5555555555555556,\"#d8576b\"],[0.6666666666666666,\"#ed7953\"],[0.7777777777777778,\"#fb9f3a\"],[0.8888888888888888,\"#fdca26\"],[1.0,\"#f0f921\"]],\"diverging\":[[0,\"#8e0152\"],[0.1,\"#c51b7d\"],[0.2,\"#de77ae\"],[0.3,\"#f1b6da\"],[0.4,\"#fde0ef\"],[0.5,\"#f7f7f7\"],[0.6,\"#e6f5d0\"],[0.7,\"#b8e186\"],[0.8,\"#7fbc41\"],[0.9,\"#4d9221\"],[1,\"#276419\"]]},\"xaxis\":{\"gridcolor\":\"white\",\"linecolor\":\"white\",\"ticks\":\"\",\"title\":{\"standoff\":15},\"zerolinecolor\":\"white\",\"automargin\":true,\"zerolinewidth\":2},\"yaxis\":{\"gridcolor\":\"white\",\"linecolor\":\"white\",\"ticks\":\"\",\"title\":{\"standoff\":15},\"zerolinecolor\":\"white\",\"automargin\":true,\"zerolinewidth\":2},\"scene\":{\"xaxis\":{\"backgroundcolor\":\"#E5ECF6\",\"gridcolor\":\"white\",\"linecolor\":\"white\",\"showbackground\":true,\"ticks\":\"\",\"zerolinecolor\":\"white\",\"gridwidth\":2},\"yaxis\":{\"backgroundcolor\":\"#E5ECF6\",\"gridcolor\":\"white\",\"linecolor\":\"white\",\"showbackground\":true,\"ticks\":\"\",\"zerolinecolor\":\"white\",\"gridwidth\":2},\"zaxis\":{\"backgroundcolor\":\"#E5ECF6\",\"gridcolor\":\"white\",\"linecolor\":\"white\",\"showbackground\":true,\"ticks\":\"\",\"zerolinecolor\":\"white\",\"gridwidth\":2}},\"shapedefaults\":{\"line\":{\"color\":\"#2a3f5f\"}},\"annotationdefaults\":{\"arrowcolor\":\"#2a3f5f\",\"arrowhead\":0,\"arrowwidth\":1},\"geo\":{\"bgcolor\":\"white\",\"landcolor\":\"#E5ECF6\",\"subunitcolor\":\"white\",\"showland\":true,\"showlakes\":true,\"lakecolor\":\"white\"},\"title\":{\"x\":0.05},\"mapbox\":{\"style\":\"light\"}}},\"xaxis\":{\"anchor\":\"y\",\"domain\":[0.0,1.0],\"title\":{\"text\":\"Size\"}},\"yaxis\":{\"anchor\":\"x\",\"domain\":[0.0,1.0],\"title\":{\"text\":\"Light\"}},\"legend\":{\"tracegroupgap\":0},\"margin\":{\"t\":60}},                        {\"responsive\": true}                    ).then(function(){\n",
              "                            \n",
              "var gd = document.getElementById('3b1360d5-be5f-49a2-9e26-b93ad78f7d83');\n",
              "var x = new MutationObserver(function (mutations, observer) {{\n",
              "        var display = window.getComputedStyle(gd).display;\n",
              "        if (!display || display === 'none') {{\n",
              "            console.log([gd, 'removed!']);\n",
              "            Plotly.purge(gd);\n",
              "            observer.disconnect();\n",
              "        }}\n",
              "}});\n",
              "\n",
              "// Listen for the removal of the full notebook cells\n",
              "var notebookContainer = gd.closest('#notebook-container');\n",
              "if (notebookContainer) {{\n",
              "    x.observe(notebookContainer, {childList: true});\n",
              "}}\n",
              "\n",
              "// Listen for the clearing of the current output cell\n",
              "var outputEl = gd.closest('.output');\n",
              "if (outputEl) {{\n",
              "    x.observe(outputEl, {childList: true});\n",
              "}}\n",
              "\n",
              "                        })                };                            </script>        </div>\n",
              "</body>\n",
              "</html>"
            ]
          },
          "metadata": {}
        }
      ]
    },
    {
      "cell_type": "code",
      "source": [
        "X = df.values\n",
        "type(X)"
      ],
      "metadata": {
        "colab": {
          "base_uri": "https://localhost:8080/"
        },
        "id": "HbTk7DbfBbN0",
        "outputId": "c4006f5d-8f22-48a5-8eec-0eaf46c0755c"
      },
      "execution_count": 6,
      "outputs": [
        {
          "output_type": "execute_result",
          "data": {
            "text/plain": [
              "numpy.ndarray"
            ]
          },
          "metadata": {},
          "execution_count": 6
        }
      ]
    },
    {
      "cell_type": "code",
      "source": [
        "from sklearn.cluster import KMeans\n",
        "wcss = []\n",
        "for i in range(1,11):\n",
        "  kmeans = KMeans(n_clusters = i, init = 'k-means++', n_init = 10)\n",
        "  kmeans.fit(X)\n",
        "  wcss.append(kmeans.inertia_)"
      ],
      "metadata": {
        "id": "sHDeQPjuCYpm"
      },
      "execution_count": 40,
      "outputs": []
    },
    {
      "cell_type": "code",
      "source": [
        "import seaborn as sns\n",
        "import matplotlib.pyplot as plt\n",
        "\n",
        "plt.figure(figsize = (10,6))\n",
        "sns.lineplot(x = range(1,11), y = wcss, color = 'red', marker = 'o')\n",
        "plt.xlabel('clusters')\n",
        "plt.ylabel('distance')\n",
        "plt.show()"
      ],
      "metadata": {
        "colab": {
          "base_uri": "https://localhost:8080/",
          "height": 542
        },
        "id": "yIvTjhZjD-zb",
        "outputId": "8a95108a-7259-4db6-dfef-4d89338065cd"
      },
      "execution_count": 41,
      "outputs": [
        {
          "output_type": "display_data",
          "data": {
            "text/plain": [
              "<Figure size 1000x600 with 1 Axes>"
            ],
            "image/png": "[encoded data removed]"
          },
          "metadata": {}
        }
      ]
    },
    {
      "cell_type": "code",
      "source": [
        "kmeans = KMeans(n_clusters = 3, init = 'k-means++', n_init = 10)\n",
        "result = kmeans.fit_predict(X)"
      ],
      "metadata": {
        "id": "to60Dva9Fm4f"
      },
      "execution_count": 42,
      "outputs": []
    },
    {
      "cell_type": "code",
      "source": [
        "plt.figure(figsize = (10,6))\n",
        "sns.scatterplot(x = X[result == 0,0], y = X[result == 0,1], color = 'green', label = 'cluster 1')\n",
        "sns.scatterplot(x = X[result == 1,0], y = X[result == 1,1], color = 'blue', label = 'cluster 2')\n",
        "sns.scatterplot(x = X[result == 2,0], y = X[result == 2,1], color = 'yellow', label = 'cluster 3')\n",
        "\n",
        "sns.scatterplot(x = kmeans.cluster_centers_[:,0], y = kmeans.cluster_centers_[:,1], color = 'black', s = 50, marker = ',',label = 'centers')"
      ],
      "metadata": {
        "colab": {
          "base_uri": "https://localhost:8080/",
          "height": 540
        },
        "id": "XuLrj2pTHBrh",
        "outputId": "405fa653-e21d-4ec6-a1c1-1b2f70d504b0"
      },
      "execution_count": 43,
      "outputs": [
        {
          "output_type": "execute_result",
          "data": {
            "text/plain": [
              "<Axes: >"
            ]
          },
          "metadata": {},
          "execution_count": 43
        },
        {
          "output_type": "display_data",
          "data": {
            "text/plain": [
              "<Figure size 1000x600 with 1 Axes>"
            ],
            "image/png": "[encoded data removed]"
          },
          "metadata": {}
        }
      ]
    },
    {
      "cell_type": "code",
      "source": [
        "import numpy as np\n",
        "\n",
        "size = float(input('enter the size of the star'))\n",
        "\n",
        "brightness = float(input('enter the brightness of the star'))\n",
        "\n",
        "user_input = [size, brightness]\n",
        "user_input = np.array(user_input).reshape(1,-1)\n",
        "\n",
        "result  = kmeans.predict(user_input)\n",
        "\n",
        "print(f'the star of given observatipon lies in {result[0] + 1} group accordance to the above diagram')"
      ],
      "metadata": {
        "colab": {
          "base_uri": "https://localhost:8080/"
        },
        "id": "iSihQIzfHspi",
        "outputId": "8e3abccf-39d8-4920-cd61-ec856a51e0a2"
      },
      "execution_count": 46,
      "outputs": [
        {
          "output_type": "stream",
          "name": "stdout",
          "text": [
            "enter the size of the star12\n",
            "enter the brightness of the star4\n",
            "the star of given observatipon lies in 1 group accordance to the above diagram\n"
          ]
        }
      ]
    },
    {
      "cell_type": "code",
      "source": [],
      "metadata": {
        "id": "01QyLfi9IfG9"
      },
      "execution_count": 44,
      "outputs": []
    }
  ]
}